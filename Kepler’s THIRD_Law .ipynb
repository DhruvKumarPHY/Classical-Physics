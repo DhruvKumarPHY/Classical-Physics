{
 "cells": [
  {
   "cell_type": "markdown",
   "id": "ff099268",
   "metadata": {},
   "source": [
    "# Kepler’s THIRD Laws of Planetary Motion"
   ]
  },
  {
   "cell_type": "markdown",
   "id": "53801c00",
   "metadata": {},
   "source": [
    "The following program computes the __orbital period__ given for the eight planets and one DWARF planet of the solar system. In fact, this is also an approximation because the mutual influence of planets is neglected. In other words, Kepler’s third law assumes a two-body system (the Sun and a single planet). It is more accurate than the test-mass approximation (m = 0) though. The code compares the periods resulting from the two-body and test-mass formulas."
   ]
  },
  {
   "cell_type": "code",
   "execution_count": 11,
   "id": "f0ac5b78",
   "metadata": {},
   "outputs": [
    {
     "name": "stdout",
     "output_type": "stream",
     "text": [
      "T [yr] dev [hr] dev rel.\n",
      "  0.24  0.0002 8.3e-08\n",
      "  0.62  0.0066 1.2e-06\n",
      "  1.00  0.0132 1.5e-06\n",
      "  1.88  0.0027 1.6e-07\n",
      " 11.88 49.6    4.8e-04\n",
      " 29.68 37.2    1.4e-04\n",
      " 84.20 16.1    2.2e-05\n",
      "164.82 37.2    2.6e-05\n",
      "248.26  0.0071 3.3e-09\n"
     ]
    }
   ],
   "source": [
    "import math\n",
    "import numpy as np\n",
    "from scipy.constants import year,hour,au,G\n",
    "from astropy.constants import M_sun\n",
    "\n",
    "M = M_sun.value # mass of the Sun in kg 7\n",
    "# orbital parameters of planets\n",
    "# see https://nssdc.gsfc.nasa.gov/planetary/factsheet/\n",
    "#mass in kg\n",
    "m = 1e24 * np.array([0.33011, 4.8675, 5.9723, 0.64171,1898.19, 568.34, 86.813, 102.413,0.0130])\n",
    "\n",
    "# semi-major axis in m\n",
    "a = 1e9 * np.array([57.9, 108.21, 149.60, 227.92,778.57, 1433.53, 2872.46, 4495.06,5906.4])\n",
    "\n",
    "# use Kepler’s third law to calculate period in s\n",
    "T_test_mass = 2*math.pi * (G*M)**(-1/2) * a**(3/2)\n",
    "T_two_body = 2*math.pi * (G*(M + m))**(-1/2) * a**(3/2)\n",
    "\n",
    "print(\"T [yr] dev [hr] dev rel.\")\n",
    "for val1,val2 in zip(T_test_mass,T_two_body):\n",
    "    dev = val1 - val2\n",
    "    if dev > hour:\n",
    "        line = \"{0:6.2f} {1:<7.1f} {2:.1e}\" \n",
    "    else:\n",
    "        line = \"{0:6.2f} {1:7.4f} {2:.1e}\" \n",
    "    print(line.format(val2/year, dev/hour, dev/val1)) "
   ]
  },
  {
   "cell_type": "markdown",
   "id": "2d0a6513",
   "metadata": {},
   "source": [
    "Power laws, such as P ∝ a^(2/3),   appear as straight lines with slope equal to the exponent in a double-logarithmic diagram:  \n",
    "__log P = (2/3) * log(a) + const.__"
   ]
  },
  {
   "cell_type": "code",
   "execution_count": 12,
   "id": "3a17b945",
   "metadata": {},
   "outputs": [
    {
     "data": {
      "image/png": "[encoded data removed]",
      "text/plain": [
       "<Figure size 432x288 with 1 Axes>"
      ]
     },
     "metadata": {
      "needs_background": "light"
     },
     "output_type": "display_data"
    }
   ],
   "source": [
    "import matplotlib.pyplot as plt\n",
    "%matplotlib inline\n",
    "\n",
    "plt.loglog(a/au, T_test_mass/year, 'green', linestyle=':',label='test mass')\n",
    "plt.loglog(a/au, T_two_body/year, 'bs', label='planets')\n",
    "plt.legend(loc='lower right')\n",
    "plt.xlabel(\"semi-major axis [AU]\")\n",
    "plt.ylabel(\"orbital period [yr]\")\n",
    "plt.savefig(\"kepler_third_law.pdf\")"
   ]
  },
  {
   "cell_type": "markdown",
   "id": "9534e279",
   "metadata": {},
   "source": [
    "THE EIGHT PLANETS TAKEN IN ORDER AS:\n",
    "    \n",
    "    Mercury, Venus, Earth, Mars, Jupiter, Saturn, Uranus, Neptune, Pluto"
   ]
  },
  {
   "cell_type": "markdown",
   "id": "9ed618b3",
   "metadata": {},
   "source": [
    "__**Verified and used KEPPLER's Third law**__"
   ]
  },
  {
   "cell_type": "code",
   "execution_count": null,
   "id": "e1a8f913",
   "metadata": {},
   "outputs": [],
   "source": []
  }
 ],
 "metadata": {
  "kernelspec": {
   "display_name": "Python 3",
   "language": "python",
   "name": "python3"
  },
  "language_info": {
   "codemirror_mode": {
    "name": "ipython",
    "version": 3
   },
   "file_extension": ".py",
   "mimetype": "text/x-python",
   "name": "python",
   "nbconvert_exporter": "python",
   "pygments_lexer": "ipython3",
   "version": "3.8.8"
  }
 },
 "nbformat": 4,
 "nbformat_minor": 5
}
